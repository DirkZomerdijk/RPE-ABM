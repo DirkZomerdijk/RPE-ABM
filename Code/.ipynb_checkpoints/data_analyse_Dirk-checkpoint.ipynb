{
 "cells": [
  {
   "cell_type": "code",
   "execution_count": 41,
   "metadata": {},
   "outputs": [
    {
     "name": "stdout",
     "output_type": "stream",
     "text": [
      "     Echo_Chambers  Run  Silent_Spiral  network_type  opinions  \\\n",
      "0                6    0           0.29             1       NaN   \n",
      "1                8    1           0.25             1       NaN   \n",
      "2                5    2           0.25             1       NaN   \n",
      "3                6    3           0.26             1       NaN   \n",
      "4                4    4           0.23             1       NaN   \n",
      "5                6    5           0.29             1       NaN   \n",
      "6                4    6           0.27             1       NaN   \n",
      "7                6    7           0.20             1       NaN   \n",
      "8                4    8           0.23             1       NaN   \n",
      "9                7    9           0.31             1       NaN   \n",
      "10               4   10           0.23             1       NaN   \n",
      "11              11   11           0.27             1       NaN   \n",
      "12               6   12           0.22             1       NaN   \n",
      "13               4   13           0.23             1       NaN   \n",
      "14               2   14           0.31             1       NaN   \n",
      "15               4   15           0.24             1       NaN   \n",
      "16               3   16           0.26             1       NaN   \n",
      "17               9   17           0.25             1       NaN   \n",
      "18               7   18           0.25             1       NaN   \n",
      "19               9   19           0.20             1       NaN   \n",
      "20               4   20           0.34             1       NaN   \n",
      "21               5   21           0.28             1       NaN   \n",
      "22               4   22           0.22             1       NaN   \n",
      "23               5   23           0.29             1       NaN   \n",
      "24               9   24           0.26             1       NaN   \n",
      "25              11   25           0.21             1       NaN   \n",
      "26               8   26           0.32             1       NaN   \n",
      "27               4   27           0.29             1       NaN   \n",
      "28               4   28           0.29             1       NaN   \n",
      "29               7   29           0.26             1       NaN   \n",
      "..             ...  ...            ...           ...       ...   \n",
      "270              3  270           0.22             1     0.474   \n",
      "271              1  271           0.24             1     0.516   \n",
      "272              6  272           0.27             1     0.487   \n",
      "273              4  273           0.29             1     0.531   \n",
      "274              3  274           0.27             1     0.527   \n",
      "275              5  275           0.25             1     0.481   \n",
      "276              4  276           0.20             1     0.506   \n",
      "277              9  277           0.28             1     0.523   \n",
      "278              9  278           0.27             1     0.493   \n",
      "279              9  279           0.33             1     0.456   \n",
      "280              4  280           0.28             1     0.500   \n",
      "281              6  281           0.32             1     0.480   \n",
      "282              3  282           0.26             1     0.462   \n",
      "283              4  283           0.23             1     0.509   \n",
      "284              5  284           0.23             1     0.504   \n",
      "285              6  285           0.28             1     0.502   \n",
      "286              7  286           0.24             1     0.446   \n",
      "287              8  287           0.26             1     0.567   \n",
      "288              5  288           0.28             1     0.467   \n",
      "289              7  289           0.23             1     0.532   \n",
      "290              3  290           0.20             1     0.552   \n",
      "291              3  291           0.27             1     0.454   \n",
      "292             11  292           0.28             1     0.430   \n",
      "293              6  293           0.29             1     0.520   \n",
      "294              4  294           0.31             1     0.516   \n",
      "295              6  295           0.27             1     0.482   \n",
      "296              9  296           0.29             1     0.429   \n",
      "297              7  297           0.28             1     0.423   \n",
      "298              5  298           0.21             1     0.537   \n",
      "299              8  299           0.25             1     0.456   \n",
      "\n",
      "     percentage_majority_opinion  radical_opinions  similarity_treshold  \\\n",
      "0                          0.530             0.040             0.018789   \n",
      "1                          0.545             0.101             0.037070   \n",
      "2                          0.505             0.045             0.018789   \n",
      "3                          0.595             0.068             0.018789   \n",
      "4                          0.519             0.061             0.037070   \n",
      "5                          0.554             0.058             0.018789   \n",
      "6                          0.507             0.046             0.037070   \n",
      "7                          0.529             0.061             0.018789   \n",
      "8                          0.506             0.048             0.018789   \n",
      "9                          0.542             0.057             0.037070   \n",
      "10                         0.514             0.049             0.018789   \n",
      "11                         0.500             0.079             0.037070   \n",
      "12                         0.534             0.043             0.018789   \n",
      "13                         0.518             0.065             0.018789   \n",
      "14                         0.552             0.041             0.037070   \n",
      "15                         0.535             0.035             0.018789   \n",
      "16                         0.523             0.064             0.037070   \n",
      "17                         0.518             0.061             0.018789   \n",
      "18                         0.523             0.043             0.018789   \n",
      "19                         0.505             0.050             0.037070   \n",
      "20                         0.548             0.062             0.018789   \n",
      "21                         0.512             0.080             0.037070   \n",
      "22                         0.513             0.057             0.018789   \n",
      "23                         0.530             0.040             0.018789   \n",
      "24                         0.509             0.073             0.037070   \n",
      "25                         0.553             0.056             0.018789   \n",
      "26                         0.542             0.087             0.037070   \n",
      "27                         0.520             0.053             0.018789   \n",
      "28                         0.512             0.038             0.018789   \n",
      "29                         0.527             0.049             0.037070   \n",
      "..                           ...               ...                  ...   \n",
      "270                          NaN             0.042             0.018789   \n",
      "271                          NaN             0.065             0.037070   \n",
      "272                          NaN             0.087             0.018789   \n",
      "273                          NaN             0.040             0.018789   \n",
      "274                          NaN             0.051             0.037070   \n",
      "275                          NaN             0.050             0.038789   \n",
      "276                          NaN             0.046             0.017070   \n",
      "277                          NaN             0.069             0.038789   \n",
      "278                          NaN             0.056             0.038789   \n",
      "279                          NaN             0.032             0.017070   \n",
      "280                          NaN             0.051             0.018789   \n",
      "281                          NaN             0.062             0.037070   \n",
      "282                          NaN             0.069             0.018789   \n",
      "283                          NaN             0.049             0.018789   \n",
      "284                          NaN             0.079             0.037070   \n",
      "285                          NaN             0.068             0.038789   \n",
      "286                          NaN             0.022             0.017070   \n",
      "287                          NaN             0.040             0.038789   \n",
      "288                          NaN             0.059             0.038789   \n",
      "289                          NaN             0.038             0.017070   \n",
      "290                          NaN             0.047             0.018789   \n",
      "291                          NaN             0.059             0.037070   \n",
      "292                          NaN             0.030             0.018789   \n",
      "293                          NaN             0.059             0.018789   \n",
      "294                          NaN             0.075             0.037070   \n",
      "295                          NaN             0.055             0.038789   \n",
      "296                          NaN             0.050             0.017070   \n",
      "297                          NaN             0.064             0.038789   \n",
      "298                          NaN             0.049             0.038789   \n",
      "299                          NaN             0.032             0.017070   \n",
      "\n",
      "     social_influence  swingers  \n",
      "0            0.013867  3.074219  \n",
      "1            0.013867  3.074219  \n",
      "2            0.021211  3.074219  \n",
      "3            0.013867  4.628906  \n",
      "4            0.021211  4.628906  \n",
      "5            0.013867  3.074219  \n",
      "6            0.013867  3.074219  \n",
      "7            0.021211  3.074219  \n",
      "8            0.013867  4.628906  \n",
      "9            0.021211  4.628906  \n",
      "10           0.013867  3.074219  \n",
      "11           0.013867  3.074219  \n",
      "12           0.021211  3.074219  \n",
      "13           0.013867  4.628906  \n",
      "14           0.021211  4.628906  \n",
      "15           0.013867  3.074219  \n",
      "16           0.013867  3.074219  \n",
      "17           0.021211  3.074219  \n",
      "18           0.013867  4.628906  \n",
      "19           0.021211  4.628906  \n",
      "20           0.013867  3.074219  \n",
      "21           0.013867  3.074219  \n",
      "22           0.021211  3.074219  \n",
      "23           0.013867  4.628906  \n",
      "24           0.021211  4.628906  \n",
      "25           0.013867  3.074219  \n",
      "26           0.013867  3.074219  \n",
      "27           0.021211  3.074219  \n",
      "28           0.013867  4.628906  \n",
      "29           0.021211  4.628906  \n",
      "..                ...       ...  \n",
      "270          0.013867  3.074219  \n",
      "271          0.013867  3.074219  \n",
      "272          0.021211  3.074219  \n",
      "273          0.013867  4.628906  \n",
      "274          0.021211  4.628906  \n",
      "275          0.033867  1.074219  \n",
      "276          0.033867  1.074219  \n",
      "277          0.041211  1.074219  \n",
      "278          0.033867  2.628906  \n",
      "279          0.041211  2.628906  \n",
      "280          0.013867  3.074219  \n",
      "281          0.013867  3.074219  \n",
      "282          0.021211  3.074219  \n",
      "283          0.013867  4.628906  \n",
      "284          0.021211  4.628906  \n",
      "285          0.033867  1.074219  \n",
      "286          0.033867  1.074219  \n",
      "287          0.041211  1.074219  \n",
      "288          0.033867  2.628906  \n",
      "289          0.041211  2.628906  \n",
      "290          0.013867  3.074219  \n",
      "291          0.013867  3.074219  \n",
      "292          0.021211  3.074219  \n",
      "293          0.013867  4.628906  \n",
      "294          0.021211  4.628906  \n",
      "295          0.033867  1.074219  \n",
      "296          0.033867  1.074219  \n",
      "297          0.041211  1.074219  \n",
      "298          0.033867  2.628906  \n",
      "299          0.041211  2.628906  \n",
      "\n",
      "[450 rows x 10 columns]\n",
      "Parameter S1 S1_conf ST ST_conf\n",
      "similarity_treshold nan nan nan nan\n",
      "social_influence nan nan nan nan\n",
      "swingers nan nan nan nan\n",
      "Parameter S1 S1_conf ST ST_conf\n",
      "similarity_treshold 0.594548 0.368318 1.523536 0.426055\n",
      "social_influence -0.013191 0.276430 0.843848 0.249644\n",
      "swingers -0.066101 0.244950 0.760362 0.275707\n",
      "Parameter S1 S1_conf ST ST_conf\n",
      "similarity_treshold 0.090668 0.231825 0.623884 0.229352\n",
      "social_influence 0.119387 0.334673 0.928913 0.288154\n",
      "swingers 0.171163 0.304164 0.928099 0.378678\n",
      "Parameter S1 S1_conf ST ST_conf\n",
      "similarity_treshold -0.020432 0.254909 0.996890 0.282875\n",
      "social_influence -0.048913 0.275101 1.086780 0.265073\n",
      "swingers -0.015262 0.231935 0.715647 0.193777\n",
      "Parameter S1 S1_conf ST ST_conf\n",
      "similarity_treshold nan nan nan nan\n",
      "social_influence nan nan nan nan\n",
      "swingers nan nan nan nan\n"
     ]
    }
   ],
   "source": [
    "import pandas as pd\n",
    "from SALib.sample import saltelli\n",
    "from SALib.analyze import sobol\n",
    "\n",
    "data = pd.read_pickle('data1.pkl')\n",
    "data2 = pd.read_pickle('dataDirk.pkl')\n",
    "\n",
    "dat = pd.concat([data,data2])\n",
    "# print(dat)\n",
    "\n",
    "# print(data)\n",
    "# print(data2)\n",
    "print(dat)\n",
    "\n",
    "problem = {\n",
    "    'num_vars': 3,\n",
    "    'names': ['similarity_treshold', 'social_influence', 'swingers'],\n",
    "    'bounds': [[0.01,0.05], [0.01, 0.05], [1, 5]]\n",
    "}\n",
    "opinions = sobol.analyze(problem,calc_second_order=False, Y=dat['opinions'].as_matrix(), print_to_console=True)\n",
    "radical_opinions = sobol.analyze(problem, calc_second_order=False, Y=dat['radical_opinions'].as_matrix(), print_to_console=True)\n",
    "Echo_Chambers = sobol.analyze(problem, calc_second_order=False, Y=dat['Echo_Chambers'].as_matrix(), print_to_console=True)\n",
    "Silent_Spiral = sobol.analyze(problem, calc_second_order=False, Y=dat['Silent_Spiral'].as_matrix(), print_to_console=True)\n",
    "percentage_majority_opinion = sobol.analyze(problem, calc_second_order=False, Y=dat['percentage_majority_opinion'].as_matrix(), print_to_console=True)"
   ]
  },
  {
   "cell_type": "code",
   "execution_count": 42,
   "metadata": {},
   "outputs": [],
   "source": [
    "def plot_index(s, params, i, title=''):\n",
    "    \"\"\"\n",
    "    Creates a plot for Sobol sensitivity analysis that shows the contributions\n",
    "    of each parameter to the global sensitivity.\n",
    "\n",
    "    Args:\n",
    "        s (dict): dictionary {'S#': dict, 'S#_conf': dict} of dicts that hold\n",
    "            the values for a set of parameters\n",
    "        params (list): the parameters taken from s\n",
    "        i (str): string that indicates what order the sensitivity is.\n",
    "        title (str): title for the plot\n",
    "    \"\"\"\n",
    "\n",
    "    if i == '2':\n",
    "        p = len(params)\n",
    "        params = list(combinations(params, 2))\n",
    "        indices = s['S' + i].reshape((p ** 2))\n",
    "        indices = indices[~np.isnan(indices)]\n",
    "        errors = s['S' + i + '_conf'].reshape((p ** 2))\n",
    "        errors = errors[~np.isnan(errors)]\n",
    "    else:\n",
    "        indices = s['S' + i]\n",
    "        errors = s['S' + i + '_conf']\n",
    "        plt.figure()\n",
    "\n",
    "    l = len(indices)\n",
    "\n",
    "    plt.title(title)\n",
    "    plt.ylim([-0.2, len(indices) - 1 + 0.2])\n",
    "    plt.yticks(range(l), params)\n",
    "    plt.errorbar(indices, range(l), xerr=errors, linestyle='None', marker='o')\n",
    "    plt.axvline(0, c='k')"
   ]
  },
  {
   "cell_type": "code",
   "execution_count": 45,
   "metadata": {},
   "outputs": [
    {
     "data": {
      "image/png": "[encoded data removed]",
      "text/plain": [
       "<Figure size 432x288 with 1 Axes>"
      ]
     },
     "metadata": {
      "needs_background": "light"
     },
     "output_type": "display_data"
    },
    {
     "data": {
      "image/png": "[encoded data removed]",
      "text/plain": [
       "<Figure size 432x288 with 1 Axes>"
      ]
     },
     "metadata": {
      "needs_background": "light"
     },
     "output_type": "display_data"
    },
    {
     "data": {
      "image/png": "[encoded data removed]",
      "text/plain": [
       "<Figure size 432x288 with 1 Axes>"
      ]
     },
     "metadata": {
      "needs_background": "light"
     },
     "output_type": "display_data"
    },
    {
     "data": {
      "image/png": "[encoded data removed]",
      "text/plain": [
       "<Figure size 432x288 with 1 Axes>"
      ]
     },
     "metadata": {
      "needs_background": "light"
     },
     "output_type": "display_data"
    },
    {
     "data": {
      "image/png": "[encoded data removed]",
      "text/plain": [
       "<Figure size 432x288 with 1 Axes>"
      ]
     },
     "metadata": {
      "needs_background": "light"
     },
     "output_type": "display_data"
    },
    {
     "data": {
      "image/png": "[encoded data removed]",
      "text/plain": [
       "<Figure size 432x288 with 1 Axes>"
      ]
     },
     "metadata": {
      "needs_background": "light"
     },
     "output_type": "display_data"
    },
    {
     "data": {
      "image/png": "[encoded data removed]",
      "text/plain": [
       "<Figure size 432x288 with 1 Axes>"
      ]
     },
     "metadata": {
      "needs_background": "light"
     },
     "output_type": "display_data"
    },
    {
     "data": {
      "image/png": "[encoded data removed]",
      "text/plain": [
       "<Figure size 432x288 with 1 Axes>"
      ]
     },
     "metadata": {
      "needs_background": "light"
     },
     "output_type": "display_data"
    }
   ],
   "source": [
    "import matplotlib.pyplot as plt\n",
    "for Si in (radical_opinions,Echo_Chambers,Silent_Spiral,percentage_majority_opinion):\n",
    "    # First order\n",
    "    plot_index(Si, problem['names'], '1', 'First order sensitivity')\n",
    "    plt.savefig('a')\n",
    "    plt.show()\n",
    "\n",
    "    # Second order\n",
    "#     plot_index(Si, problem['names'], '2', 'Second order sensitivity')\n",
    "#     plt.show()\n",
    "\n",
    "    # Total order\n",
    "    plot_index(Si, problem['names'], 'T', 'Total order sensitivity')\n",
    "    \n",
    "    plt.show()"
   ]
  },
  {
   "cell_type": "code",
   "execution_count": 48,
   "metadata": {},
   "outputs": [],
   "source": [
    "dat.to_pickle('data_Lineplots.pkl')\n"
   ]
  }
 ],
 "metadata": {
  "kernelspec": {
   "display_name": "Python 3",
   "language": "python",
   "name": "python3"
  },
  "language_info": {
   "codemirror_mode": {
    "name": "ipython",
    "version": 3
   },
   "file_extension": ".py",
   "mimetype": "text/x-python",
   "name": "python",
   "nbconvert_exporter": "python",
   "pygments_lexer": "ipython3",
   "version": "3.6.4"
  },
  "varInspector": {
   "cols": {
    "lenName": 16,
    "lenType": 16,
    "lenVar": 40
   },
   "kernels_config": {
    "python": {
     "delete_cmd_postfix": "",
     "delete_cmd_prefix": "del ",
     "library": "var_list.py",
     "varRefreshCmd": "print(var_dic_list())"
    },
    "r": {
     "delete_cmd_postfix": ") ",
     "delete_cmd_prefix": "rm(",
     "library": "var_list.r",
     "varRefreshCmd": "cat(var_dic_list()) "
    }
   },
   "types_to_exclude": [
    "module",
    "function",
    "builtin_function_or_method",
    "instance",
    "_Feature"
   ],
   "window_display": false
  }
 },
 "nbformat": 4,
 "nbformat_minor": 2
}

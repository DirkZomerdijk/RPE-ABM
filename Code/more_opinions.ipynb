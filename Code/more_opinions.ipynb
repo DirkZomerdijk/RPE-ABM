{
 "cells": [
  {
   "cell_type": "code",
   "execution_count": 1,
   "metadata": {},
   "outputs": [],
   "source": [
    "%matplotlib inline\n",
    "from model import *\n",
    "from agents import *\n",
    "from globals import *\n",
    "# from server import *\n",
    "from schedule import *\n",
    "from utility import *\n",
    "from SALib.sample import saltelli\n",
    "from mesa.batchrunner import BatchRunner, BatchRunnerMP\n",
    "from SALib.analyze import sobol\n",
    "import pandas as pd\n",
    "import numpy as np\n",
    "import matplotlib.pyplot as plt\n",
    "from itertools import combinations\n",
    "from IPython.display import clear_output\n",
    "import multiprocessing as mp"
   ]
  },
  {
   "cell_type": "code",
   "execution_count": null,
   "metadata": {},
   "outputs": [
    {
     "name": "stderr",
     "output_type": "stream",
     "text": [
      "64it [19:51, 21.29s/it]"
     ]
    }
   ],
   "source": [
    "from mesa.batchrunner import BatchRunner, BatchRunnerMP\n",
    "\n",
    "fixed_params = {\"N\": 1000,\n",
    "                \"network_type\": 2,\n",
    "                \"no_of_neighbors\": 3,\n",
    "                \"beta_component\": 0.15,\n",
    "                \"social_influence\": 0.06,\n",
    "                \"swingers\": 3,\n",
    "#                 \"malicious_N\":0,\n",
    "                \"echo_limit\":0.95,\n",
    "                \"all_majority\": False,\n",
    "                \"similarity_treshold\": 0.16,\n",
    "#                 \"malicious_N\": 0,\n",
    "                 \n",
    "               }\n",
    "variable_params = {\"opinions\":  list(range(2, 6)),\n",
    "                \"malicious_N\":list(range(0, 6)),\n",
    "                  }\n",
    "\n",
    "batch_run = BatchRunnerMP(Network,\n",
    "                        iterations=30,\n",
    "                        max_steps=100,\n",
    "                        fixed_parameters=fixed_params,\n",
    "                        variable_parameters=variable_params,\n",
    "#                         model_reporters=model_reporters, \n",
    "                        nr_processes=4,\n",
    "                        model_reporters={                \n",
    "                            \"radical_opinions\": compute_radical_opinions,\n",
    "                            \"community_no\": community_no,\n",
    "#                             \"echo_chambers\": echo_no,\n",
    "                            \"majority_opinion\": compute_majority_opinions,\n",
    "                            \"silent_spiral\": compute_silent_spiral,\n",
    "                            \"compute_transitivity\":compute_transitivity,\n",
    "                            \"compute_echo_chamber\":compute_echo_chamber,\n",
    "                            \"echochamber_size\":echochamber_size,\n",
    "                            \"echochamber_count\":echochamber_count\n",
    "                        })\n",
    "batch_run.run_all()\n",
    "data = batch_run.get_model_vars_dataframe()\n",
    "\n",
    "#print data\n",
    "print(data)"
   ]
  },
  {
   "cell_type": "code",
   "execution_count": null,
   "metadata": {},
   "outputs": [],
   "source": []
  }
 ],
 "metadata": {
  "kernelspec": {
   "display_name": "Python 3",
   "language": "python",
   "name": "python3"
  },
  "language_info": {
   "codemirror_mode": {
    "name": "ipython",
    "version": 3
   },
   "file_extension": ".py",
   "mimetype": "text/x-python",
   "name": "python",
   "nbconvert_exporter": "python",
   "pygments_lexer": "ipython3",
   "version": "3.7.2"
  }
 },
 "nbformat": 4,
 "nbformat_minor": 2
}

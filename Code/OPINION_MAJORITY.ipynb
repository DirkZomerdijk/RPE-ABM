{
 "cells": [
  {
   "cell_type": "code",
   "execution_count": 2,
   "metadata": {},
   "outputs": [],
   "source": [
    "#### %matplotlib inline\n",
    "from model import *\n",
    "from agents import *\n",
    "from globals import *\n",
    "# from server import *\n",
    "from schedule import *\n",
    "from utility import *\n",
    "from SALib.sample import saltelli\n",
    "from mesa.batchrunner import BatchRunner, BatchRunnerMP\n",
    "import pathos\n",
    "from SALib.analyze import sobol\n",
    "import pandas as pd\n",
    "import numpy as np\n",
    "import matplotlib.pyplot as plt\n",
    "from itertools import combinations\n",
    "from IPython.display import clear_output\n",
    "import time\n",
    "import multiprocessing as mp\n",
    "import analysis\n",
    "\n"
   ]
  },
  {
   "cell_type": "code",
   "execution_count": 11,
   "metadata": {},
   "outputs": [],
   "source": [
    "# We define our variables and bounds\n",
    "\n",
    "fixed_params = {\n",
    "    \"network_type\": 2\n",
    "}\n",
    "\n",
    "problem = {\n",
    "    'num_vars':2,\n",
    "    'names': [\"opinions\",\"malicious_N\"],\n",
    "    'bounds': [[2,5],[0,5]]\n",
    "}\n",
    "\n",
    "# Set the repetitions, the amount of steps, and the amount of distinct values per variable\n",
    "replicates = 1\n",
    "max_steps = 1\n",
    "distinct_samples = 2\n",
    "\n",
    "# We get all our samples here\n",
    "param_values = saltelli.sample(problem, distinct_samples, calc_second_order= False)\n"
   ]
  },
  {
   "cell_type": "code",
   "execution_count": null,
   "metadata": {},
   "outputs": [
    {
     "name": "stdout",
     "output_type": "stream",
     "text": [
      "12.50% done\n",
      "Average duration per iteration: 6.75390625 seconds.\n",
      "Expected time till finish:  0 hours and  0  minutes.\n"
     ]
    }
   ],
   "source": [
    "# Set the outputs\n",
    "model_reporters = {\n",
    "#                 \"preferences\": compute_preferences,\n",
    "#                 \"opinions\": compute_opinions,\n",
    "#                 \"preference_A\": compute_preference_A,\n",
    "#                 \"preference_B\": compute_preference_B,\n",
    "                \"radical_opinions\": compute_radical_opinions,\n",
    "                \"Silent_Spiral\": compute_silent_spiral,\n",
    "                \"majority_percentage\": compute_majority_opinions,\n",
    "                \"community_no\": community_no,\n",
    "                \"transitivity\": compute_transitivity,\n",
    "                \"echo_chamber\": compute_echo_chamber,\n",
    "                \"echo_size\": echochamber_size,\n",
    "                \"echo_count\": echochamber_count,          \n",
    "}\n",
    "\n",
    "# param_values = DIRK\n",
    "# param_values = TOBIAS\n",
    "\n",
    "# BatchRunner\n",
    "batch = BatchRunnerMP(Network, \n",
    "                    max_steps=max_steps,\n",
    "                    fixed_parameters=fixed_params,\n",
    "                    variable_parameters={name:[] for name in problem['names']},\n",
    "                    model_reporters=model_reporters, nr_processes=4)\n",
    "times = []\n",
    "count = 0\n",
    "for i in range(replicates):\n",
    "    for vals in param_values:\n",
    "        start = time.time()\n",
    "        # Change parameters that should be integers\n",
    "        vals = list(vals)\n",
    "#         vals[2] = int(vals[2])\n",
    "\n",
    "        # Transform to dict with parameter names and their values\n",
    "        variable_parameters = {}\n",
    "        for name, val in zip(problem['names'], vals):\n",
    "            variable_parameters[name] = val\n",
    "        variable_parameters['network_type']=2\n",
    "        variable_parameters['malicious_N']=int(variable_parameters['malicious_N'])\n",
    "        variable_parameters['N']=1000\n",
    "        variable_parameters['beta_component']=1\n",
    "        variable_parameters['swingers']=3\n",
    "        variable_parameters['echo_limit']=0.95\n",
    "        variable_parameters['social_influence']=0.06\n",
    "        variable_parameters['similarity_treshold']=0.16\n",
    "        variable_parameters['no_of_neighbors']=3\n",
    "        variable_parameters['all_majority']=False\n",
    "        variable_parameters['opinions']=int(variable_parameters['opinions'])\n",
    "\n",
    "        batch.run_iteration(variable_parameters, tuple(vals), count)\n",
    "        count += 1\n",
    "\n",
    "        clear_output()\n",
    "        print(f'{count / (len(param_values) * (replicates)) * 100:.2f}% done')\n",
    "        times.append(time.time() - start)\n",
    "        meantime = np.mean(times)\n",
    "        print('Average duration per iteration: %s seconds.'%str(meantime))\n",
    "        nectime = ((len(param_values) * (replicates))-count)*meantime\n",
    "        print('Expected time till finish: ', int(nectime/3600), 'hours and ', int((nectime%3600)/60), ' minutes.')\n",
    "        \n",
    "        \n",
    "    \n",
    "data = batch.get_model_vars_dataframe()\n",
    "data.to_pickle('./Data/Majority_Minority.pkl')\n"
   ]
  },
  {
   "cell_type": "code",
   "execution_count": null,
   "metadata": {},
   "outputs": [],
   "source": []
  }
 ],
 "metadata": {
  "kernelspec": {
   "display_name": "Python 3",
   "language": "python",
   "name": "python3"
  },
  "language_info": {
   "codemirror_mode": {
    "name": "ipython",
    "version": 3
   },
   "file_extension": ".py",
   "mimetype": "text/x-python",
   "name": "python",
   "nbconvert_exporter": "python",
   "pygments_lexer": "ipython3",
   "version": "3.6.4"
  },
  "varInspector": {
   "cols": {
    "lenName": 16,
    "lenType": 16,
    "lenVar": 40
   },
   "kernels_config": {
    "python": {
     "delete_cmd_postfix": "",
     "delete_cmd_prefix": "del ",
     "library": "var_list.py",
     "varRefreshCmd": "print(var_dic_list())"
    },
    "r": {
     "delete_cmd_postfix": ") ",
     "delete_cmd_prefix": "rm(",
     "library": "var_list.r",
     "varRefreshCmd": "cat(var_dic_list()) "
    }
   },
   "types_to_exclude": [
    "module",
    "function",
    "builtin_function_or_method",
    "instance",
    "_Feature"
   ],
   "window_display": false
  }
 },
 "nbformat": 4,
 "nbformat_minor": 2
}

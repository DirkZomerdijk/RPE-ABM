{
 "cells": [
  {
   "cell_type": "code",
   "execution_count": null,
   "metadata": {},
   "outputs": [],
   "source": [
    "from model import *\n",
    "from agents import *\n",
    "from server import *\n",
    "from schedule import *\n",
    "from utility import *"
   ]
  },
  {
   "cell_type": "code",
   "execution_count": null,
   "metadata": {},
   "outputs": [],
   "source": [
    "from mesa.batchrunner import BatchRunner\n",
    "\n",
    "fixed_params = {\"no_of_neighbors\": 2,\n",
    "                \"network_type\": 2,\n",
    "                \"beta_component\": .15,\n",
    "                \"N\": 1000,\n",
    "                \"similarity_treshold\": 0.025,\n",
    "                \"social_influence\": 0.025,\n",
    "                \"swingers\": 1\n",
    "               }\n",
    "\n",
    "\n",
    "batch_run = BatchRunner(Network,\n",
    "                        iterations=1,\n",
    "                        fixed_parameters=fixed_params,\n",
    "                        max_steps=1000,\n",
    "                        model_reporters={\"graph\": return_network})\n",
    "batch_run.run_all()\n",
    "run_data = batch_run.get_model_vars_dataframe()\n",
    "print(run_data)\n"
   ]
  },
  {
   "cell_type": "code",
   "execution_count": 1,
   "metadata": {},
   "outputs": [
    {
     "name": "stdout",
     "output_type": "stream",
     "text": [
      "Average duration per iteration: 24.141907596588133 seconds.\n",
      "Expected time till finish:  0 hours and  0  minutes.\n"
     ]
    }
   ],
   "source": [
    "from model import *\n",
    "from IPython.display import clear_output\n",
    "import time\n",
    "import pandas as pd\n",
    "\n",
    "\n",
    "num_steps = 100\n",
    "itters = 5\n",
    "\n",
    "times = []\n",
    "count = 0\n",
    "data_array = []\n",
    "network = Network(N = 1000, no_of_neighbors = 3, network_type = 2, beta_component = 0.23, similarity_treshold = 0.025, social_influence = 0.025, swingers = 3, malicious_N = 0, echo_threshold=.25) \n",
    "\n",
    "for i in range(itters):\n",
    "    print('GO')\n",
    "    start = time.time()\n",
    "    \n",
    "    for j in range(num_steps):\n",
    "        if(j==num_steps/2):\n",
    "            print('1/2')\n",
    "        network.step()\n",
    "        \n",
    "    count += 1\n",
    "    clear_output()\n",
    "    times.append(time.time() - start)\n",
    "    meantime = np.mean(times)\n",
    "    print('Average duration per iteration: %s seconds.'%str(meantime))\n",
    "    nectime =  (itters-count)*meantime\n",
    "    print('Expected time till finish: ', int(nectime/3600), 'hours and ', int((nectime%3600)/60), ' minutes.')\n",
    "\n",
    "\n",
    "    data = network.datacollector.get_model_vars_dataframe()\n",
    "    data_array.append(data)\n",
    "    \n",
    "new_data = pd.concat(data_array)"
   ]
  },
  {
   "cell_type": "code",
   "execution_count": 12,
   "metadata": {},
   "outputs": [
    {
     "name": "stdout",
     "output_type": "stream",
     "text": [
      "    preferences  radical_opinions  community_no  spiral\n",
      "0      0.495876            0.2004          15.6   0.238\n",
      "1      0.533821            0.2258          20.0   0.300\n",
      "2      0.552371            0.2282          20.2   0.236\n",
      "3      0.561497            0.2250          18.8   0.254\n",
      "4      0.566584            0.2174          17.6   0.260\n",
      "5      0.570072            0.2050          16.8   0.222\n",
      "6      0.572061            0.1916          16.2   0.220\n",
      "7      0.573871            0.1772          15.4   0.226\n",
      "8      0.577343            0.1682          15.6   0.236\n",
      "9      0.578498            0.1556          15.8   0.222\n",
      "10     0.579618            0.1434          16.2   0.230\n",
      "11     0.580725            0.1364          15.0   0.214\n",
      "12     0.582620            0.1310          14.0   0.212\n",
      "13     0.582223            0.1236          14.2   0.206\n",
      "14     0.584445            0.1176          14.2   0.196\n",
      "15     0.583954            0.1106          14.6   0.184\n",
      "16     0.583470            0.1068          13.4   0.186\n",
      "17     0.583237            0.1036          13.8   0.196\n",
      "18     0.584381            0.1012          13.4   0.182\n",
      "19     0.584371            0.0978          13.2   0.186\n",
      "20     0.584767            0.0956          14.2   0.186\n",
      "21     0.585409            0.0938          14.6   0.186\n",
      "22     0.586288            0.0900          13.4   0.190\n",
      "23     0.586282            0.0888          13.2   0.174\n",
      "24     0.587248            0.0868          13.6   0.174\n",
      "25     0.586884            0.0858          13.6   0.186\n",
      "26     0.586381            0.0844          12.6   0.174\n",
      "27     0.587828            0.0834          12.6   0.174\n",
      "28     0.589075            0.0822          12.6   0.192\n",
      "29     0.588772            0.0822          13.4   0.174\n",
      "..          ...               ...           ...     ...\n",
      "70     0.595129            0.0612          11.4   0.176\n",
      "71     0.595002            0.0600          12.8   0.174\n",
      "72     0.594969            0.0596          11.8   0.160\n",
      "73     0.594976            0.0590          13.0   0.158\n",
      "74     0.595210            0.0590          11.6   0.148\n",
      "75     0.595054            0.0588          13.0   0.174\n",
      "76     0.595259            0.0580          12.8   0.168\n",
      "77     0.595094            0.0574          12.0   0.160\n",
      "78     0.595940            0.0570          12.4   0.178\n",
      "79     0.595976            0.0566          12.8   0.170\n",
      "80     0.595819            0.0564          12.4   0.170\n",
      "81     0.596080            0.0566          11.6   0.160\n",
      "82     0.595504            0.0554          12.8   0.178\n",
      "83     0.596161            0.0556          13.0   0.170\n",
      "84     0.595629            0.0548          12.6   0.166\n",
      "85     0.595290            0.0548          12.4   0.166\n",
      "86     0.595529            0.0542          12.4   0.166\n",
      "87     0.595241            0.0538          13.6   0.164\n",
      "88     0.595101            0.0540          13.4   0.178\n",
      "89     0.594931            0.0542          12.6   0.174\n",
      "90     0.595337            0.0540          12.0   0.168\n",
      "91     0.595060            0.0530          12.0   0.200\n",
      "92     0.595032            0.0528          13.2   0.172\n",
      "93     0.595139            0.0520          12.4   0.168\n",
      "94     0.595265            0.0514          12.4   0.176\n",
      "95     0.594824            0.0516          12.8   0.174\n",
      "96     0.594926            0.0512          11.4   0.174\n",
      "97     0.595398            0.0510          11.6   0.172\n",
      "98     0.595267            0.0510          12.4   0.178\n",
      "99     0.595132            0.0510          12.8   0.178\n",
      "\n",
      "[100 rows x 4 columns]\n",
      "\n"
     ]
    }
   ],
   "source": [
    "import pandas as pd\n",
    "tot_data = pd.read_pickle('mean_data1.pkl')\n",
    "mean_data =  tot_data.groupby(tot_data.index).mean()\n",
    "sd_data =  tot_data.groupby(tot_data.index).std()"
   ]
  },
  {
   "cell_type": "code",
   "execution_count": 15,
   "metadata": {},
   "outputs": [
    {
     "name": "stdout",
     "output_type": "stream",
     "text": [
      "[  0.   1.   2.   3.   4.   5.   6.   7.   8.   9.  10.  11.  12.  13.\n",
      "  14.  15.  16.  17.  18.  19.  20.  21.  22.  23.  24.  25.  26.  27.\n",
      "  28.  29.  30.  31.  32.  33.  34.  35.  36.  37.  38.  39.  40.  41.\n",
      "  42.  43.  44.  45.  46.  47.  48.  49.  50.  51.  52.  53.  54.  55.\n",
      "  56.  57.  58.  59.  60.  61.  62.  63.  64.  65.  66.  67.  68.  69.\n",
      "  70.  71.  72.  73.  74.  75.  76.  77.  78.  79.  80.  81.  82.  83.\n",
      "  84.  85.  86.  87.  88.  89.  90.  91.  92.  93.  94.  95.  96.  97.\n",
      "  98.  99. 100.]\n"
     ]
    }
   ],
   "source": [
    "import plotly.plotly as py\n",
    "import plotly.graph_objs as go\n",
    "\n",
    "# Create random data with numpy\n",
    "import numpy as np\n",
    "\n",
    "N = 500\n",
    "x = np.linspace(0, len(mean_data), len(mean_data)+1)\n",
    "print(x)\n",
    "y1 = mean_data['preferences']\n",
    "y2 = mean_data['spiral']\n",
    "y3 = mean_data['community_no']\n",
    "y4 = mean_data['radical_opinions']\n",
    "# y5 = mean_data['radical_opinions']\n",
    "    \n",
    "\n",
    "# Create a trace\n",
    "preferences = go.Scatter(\n",
    "    x = x,\n",
    "    y = y1\n",
    ")\n",
    "spiral = go.Scatter(\n",
    "    x = x,\n",
    "    y = y2\n",
    ")\n",
    "\n",
    "community_no = go.Scatter(\n",
    "    x = x,\n",
    "    y = y3\n",
    ")\n",
    "radical_opinions = go.Scatter(\n",
    "    x = x,\n",
    "    y = y4,\n",
    "    name='Radical Opinions',\n",
    ")\n",
    "layout = go.Layout(\n",
    "    title='Radical Opinions',\n",
    "    xaxis=dict(\n",
    "        title='x Axis',\n",
    "        titlefont=dict(\n",
    "            family='Courier New, monospace',\n",
    "            size=18,\n",
    "            color='#7f7f7f'\n",
    "        )\n",
    "    ),\n",
    "    yaxis=dict(\n",
    "        title='y Axis',\n",
    "        titlefont=dict(\n",
    "            family='Courier New, monospace',\n",
    "            size=18,\n",
    "            color='#7f7f7f'\n",
    "        )\n",
    "    )\n",
    ")\n",
    "\n",
    "# radical_opinions = go.Scatter(\n",
    "#     x = x,\n",
    "#     y = y5\n",
    "# )\n",
    "\n",
    "# data = [preferences,radical_opinions,community_no,spiral]\n",
    "\n",
    "# py.iplot(data, filename='basic-line')"
   ]
  },
  {
   "cell_type": "code",
   "execution_count": 21,
   "metadata": {},
   "outputs": [
    {
     "data": {
      "text/html": [
       "<iframe id=\"igraph\" scrolling=\"no\" style=\"border:none;\" seamless=\"seamless\" src=\"https://plot.ly/~nrxdirk/55.embed\" height=\"525px\" width=\"100%\"></iframe>"
      ],
      "text/plain": [
       "<plotly.tools.PlotlyDisplay object>"
      ]
     },
     "execution_count": 21,
     "metadata": {},
     "output_type": "execute_result"
    }
   ],
   "source": [
    "data = [preferences]\n",
    "py.iplot(data, filename='basic-line')"
   ]
  },
  {
   "cell_type": "code",
   "execution_count": 22,
   "metadata": {},
   "outputs": [
    {
     "data": {
      "text/html": [
       "<iframe id=\"igraph\" scrolling=\"no\" style=\"border:none;\" seamless=\"seamless\" src=\"https://plot.ly/~nrxdirk/55.embed\" height=\"525px\" width=\"100%\"></iframe>"
      ],
      "text/plain": [
       "<plotly.tools.PlotlyDisplay object>"
      ]
     },
     "execution_count": 22,
     "metadata": {},
     "output_type": "execute_result"
    }
   ],
   "source": [
    "data = [spiral]\n",
    "py.iplot(data, filename='basic-line')"
   ]
  },
  {
   "cell_type": "code",
   "execution_count": 23,
   "metadata": {},
   "outputs": [
    {
     "data": {
      "text/html": [
       "<iframe id=\"igraph\" scrolling=\"no\" style=\"border:none;\" seamless=\"seamless\" src=\"https://plot.ly/~nrxdirk/55.embed\" height=\"525px\" width=\"100%\"></iframe>"
      ],
      "text/plain": [
       "<plotly.tools.PlotlyDisplay object>"
      ]
     },
     "execution_count": 23,
     "metadata": {},
     "output_type": "execute_result"
    }
   ],
   "source": [
    "data = [community_no]\n",
    "py.iplot(data, filename='basic-line')"
   ]
  },
  {
   "cell_type": "code",
   "execution_count": 16,
   "metadata": {},
   "outputs": [
    {
     "data": {
      "text/html": [
       "<iframe id=\"igraph\" scrolling=\"no\" style=\"border:none;\" seamless=\"seamless\" src=\"https://plot.ly/~nrxdirk/55.embed\" height=\"525px\" width=\"100%\"></iframe>"
      ],
      "text/plain": [
       "<plotly.tools.PlotlyDisplay object>"
      ]
     },
     "execution_count": 16,
     "metadata": {},
     "output_type": "execute_result"
    }
   ],
   "source": [
    "data = [radical_opinions]\n",
    "py.iplot(data, filename='basic-line')"
   ]
  },
  {
   "cell_type": "code",
   "execution_count": null,
   "metadata": {},
   "outputs": [],
   "source": [
    "from multiprocessing import Pool\n",
    "from model import *\n",
    "from IPython.display import clear_output\n",
    "import time\n",
    "import pandas as pd\n",
    "\n",
    "\n",
    "num_steps = 100\n",
    "itters = 5\n",
    "\n",
    "data_inputs = list([itters, num_steps])\n",
    "\n",
    "def collect_data(itters, num_steps):\n",
    "    times = []\n",
    "    count = 0\n",
    "    data_array = []\n",
    "    for i in range(itters):\n",
    "\n",
    "        network = Network(N = 1000, no_of_neighbors = 3, network_type = 2, beta_component = 0.23, similarity_treshold = 0.025, social_influence = 0.025, swingers = 3) \n",
    "        start = time.time()\n",
    "        for j in range(num_steps):\n",
    "\n",
    "            network.step()\n",
    "        count += 1\n",
    "        clear_output()\n",
    "        times.append(time.time() - start)\n",
    "        meantime = np.mean(times)\n",
    "        print('Average duration per iteration: %s seconds.'%str(meantime))\n",
    "        nectime =  (itters-count)*meantime\n",
    "        print('Expected time till finish: ', int(nectime/3600), 'hours and ', int((nectime%3600)/60), ' minutes.')\n",
    "\n",
    "\n",
    "        data = network.datacollector.get_model_vars_dataframe()\n",
    "        data_array.append(data)\n",
    "    dat = pd.concat(data_array)\n",
    "    return dat\n",
    "if __name__ == '__main__':\n",
    "    pool = Pool(8)         \n",
    "    mp_data = pool.map(collect_data, data_inputs)  # process data_inputs iterable with pool"
   ]
  },
  {
   "cell_type": "code",
   "execution_count": 10,
   "metadata": {
    "scrolled": true
   },
   "outputs": [
    {
     "name": "stdout",
     "output_type": "stream",
     "text": [
      "     percentage_majority_opinion\n",
      "0                          0.529\n",
      "1                          0.569\n",
      "2                          0.591\n",
      "3                          0.581\n",
      "4                          0.583\n",
      "5                          0.589\n",
      "6                          0.591\n",
      "7                          0.594\n",
      "8                          0.602\n",
      "9                          0.604\n",
      "10                         0.611\n",
      "11                         0.601\n",
      "12                         0.602\n",
      "13                         0.605\n",
      "14                         0.609\n",
      "15                         0.614\n",
      "16                         0.611\n",
      "17                         0.604\n",
      "18                         0.603\n",
      "19                         0.605\n",
      "20                         0.608\n",
      "21                         0.608\n",
      "22                         0.614\n",
      "23                         0.617\n",
      "24                         0.614\n",
      "25                         0.616\n",
      "26                         0.624\n",
      "27                         0.620\n",
      "28                         0.620\n",
      "29                         0.621\n",
      "..                           ...\n",
      "470                        0.649\n",
      "471                        0.650\n",
      "472                        0.650\n",
      "473                        0.649\n",
      "474                        0.649\n",
      "475                        0.649\n",
      "476                        0.650\n",
      "477                        0.648\n",
      "478                        0.648\n",
      "479                        0.649\n",
      "480                        0.649\n",
      "481                        0.649\n",
      "482                        0.649\n",
      "483                        0.648\n",
      "484                        0.648\n",
      "485                        0.649\n",
      "486                        0.648\n",
      "487                        0.649\n",
      "488                        0.650\n",
      "489                        0.651\n",
      "490                        0.649\n",
      "491                        0.648\n",
      "492                        0.650\n",
      "493                        0.650\n",
      "494                        0.649\n",
      "495                        0.650\n",
      "496                        0.647\n",
      "497                        0.648\n",
      "498                        0.648\n",
      "499                        0.648\n",
      "\n",
      "[1500 rows x 1 columns]\n"
     ]
    },
    {
     "data": {
      "text/html": [
       "<iframe id=\"igraph\" scrolling=\"no\" style=\"border:none;\" seamless=\"seamless\" src=\"https://plot.ly/~nrxdirk/55.embed\" height=\"525px\" width=\"100%\"></iframe>"
      ],
      "text/plain": [
       "<plotly.tools.PlotlyDisplay object>"
      ]
     },
     "execution_count": 10,
     "metadata": {},
     "output_type": "execute_result"
    }
   ],
   "source": [
    "import plotly.plotly as py\n",
    "import plotly.graph_objs as go\n",
    "tData = new_data\n",
    "\n",
    "print(tData)\n",
    "tmean_data =  tData.groupby(tData.index).mean()\n",
    "\n",
    "x = np.linspace(0, len(tmean_data), len(tmean_data)+1)\n",
    "y1 = tmean_data['percentage_majority_opinion']\n",
    "# y2 = mean_data['spiral']\n",
    "# y3 = mean_data['community_no']\n",
    "# y4 = mean_data['radical_opinions']\n",
    "# y5 = mean_data['radical_opinions']\n",
    "    \n",
    "\n",
    "# Create a trace\n",
    "majority_opinion = go.Scatter(\n",
    "    x = x,\n",
    "    y = y1\n",
    ")\n",
    "data = [majority_opinion]\n",
    "py.iplot(data, filename='basic-line')"
   ]
  },
  {
   "cell_type": "code",
   "execution_count": 3,
   "metadata": {},
   "outputs": [
    {
     "name": "stdout",
     "output_type": "stream",
     "text": [
      "Average duration per iteration: 179.99935545921326 seconds.\n",
      "Expected time till finish:  0 hours and  0  minutes.\n"
     ]
    }
   ],
   "source": [
    "from model import *\n",
    "from IPython.display import clear_output\n",
    "import time\n",
    "import pandas as pd\n",
    "\n",
    "\n",
    "num_steps = 100\n",
    "itters = 5\n",
    "\n",
    "times = []\n",
    "count = 0\n",
    "data_array = []\n",
    "network = Network(N = 1000, no_of_neighbors = 3, network_type = 2, beta_component = 0.23, similarity_treshold = 0.025, social_influence = 0.025, swingers = 3, malicious_N = 3, echo_threshold=.25) \n",
    "\n",
    "for i in range(itters):\n",
    "    print('GO')\n",
    "    start = time.time()\n",
    "    \n",
    "    for j in range(num_steps):\n",
    "        if(j==num_steps/2):\n",
    "            print('1/2')\n",
    "        network.step()\n",
    "        \n",
    "    count += 1\n",
    "    clear_output()\n",
    "    times.append(time.time() - start)\n",
    "    meantime = np.mean(times)\n",
    "    print('Average duration per iteration: %s seconds.'%str(meantime))\n",
    "    nectime =  (itters-count)*meantime\n",
    "    print('Expected time till finish: ', int(nectime/3600), 'hours and ', int((nectime%3600)/60), ' minutes.')\n",
    "\n",
    "\n",
    "    data = network.datacollector.get_model_vars_dataframe()\n",
    "    data_array.append(data)\n",
    "    \n",
    "new_data2 = pd.concat(data_array)\n",
    "\n",
    "\n",
    "    \n",
    "    "
   ]
  },
  {
   "cell_type": "code",
   "execution_count": 24,
   "metadata": {},
   "outputs": [
    {
     "name": "stdout",
     "output_type": "stream",
     "text": [
      "     community_no  percentage_majority_opinion\n",
      "0              15                        0.522\n",
      "1              18                        0.504\n",
      "2              17                        0.509\n",
      "3              15                        0.504\n",
      "4              19                        0.513\n",
      "5              18                        0.537\n",
      "6              16                        0.539\n",
      "7              16                        0.531\n",
      "8              15                        0.534\n",
      "9              17                        0.544\n",
      "10             16                        0.550\n",
      "11             14                        0.554\n",
      "12             13                        0.553\n",
      "13             16                        0.561\n",
      "14             15                        0.557\n",
      "15             14                        0.554\n",
      "16             13                        0.553\n",
      "17             15                        0.563\n",
      "18             16                        0.561\n",
      "19             15                        0.557\n",
      "20             15                        0.564\n",
      "21             15                        0.569\n",
      "22             14                        0.569\n",
      "23             15                        0.560\n",
      "24             16                        0.564\n",
      "25             15                        0.567\n",
      "26             13                        0.566\n",
      "27             14                        0.570\n",
      "28             14                        0.567\n",
      "29             14                        0.566\n",
      "..            ...                          ...\n",
      "470            13                        0.599\n",
      "471            12                        0.600\n",
      "472            15                        0.600\n",
      "473            12                        0.602\n",
      "474            12                        0.600\n",
      "475            13                        0.602\n",
      "476            13                        0.603\n",
      "477            12                        0.604\n",
      "478            13                        0.603\n",
      "479            12                        0.604\n",
      "480            13                        0.602\n",
      "481            11                        0.600\n",
      "482            12                        0.601\n",
      "483            13                        0.601\n",
      "484            11                        0.603\n",
      "485            13                        0.605\n",
      "486            13                        0.604\n",
      "487            11                        0.603\n",
      "488            11                        0.602\n",
      "489            14                        0.603\n",
      "490            12                        0.601\n",
      "491            13                        0.602\n",
      "492            13                        0.603\n",
      "493            12                        0.601\n",
      "494            13                        0.603\n",
      "495            14                        0.604\n",
      "496            13                        0.604\n",
      "497            11                        0.604\n",
      "498            12                        0.604\n",
      "499            12                        0.603\n",
      "\n",
      "[1500 rows x 2 columns]\n",
      "     community_no  percentage_majority_opinion\n",
      "0              15                        0.522\n",
      "1              18                        0.504\n",
      "2              17                        0.509\n",
      "3              15                        0.504\n",
      "4              19                        0.513\n",
      "5              18                        0.537\n",
      "6              16                        0.539\n",
      "7              16                        0.531\n",
      "8              15                        0.534\n",
      "9              17                        0.544\n",
      "10             16                        0.550\n",
      "11             14                        0.554\n",
      "12             13                        0.553\n",
      "13             16                        0.561\n",
      "14             15                        0.557\n",
      "15             14                        0.554\n",
      "16             13                        0.553\n",
      "17             15                        0.563\n",
      "18             16                        0.561\n",
      "19             15                        0.557\n",
      "20             15                        0.564\n",
      "21             15                        0.569\n",
      "22             14                        0.569\n",
      "23             15                        0.560\n",
      "24             16                        0.564\n",
      "25             15                        0.567\n",
      "26             13                        0.566\n",
      "27             14                        0.570\n",
      "28             14                        0.567\n",
      "29             14                        0.566\n",
      "..            ...                          ...\n",
      "470            13                        0.599\n",
      "471            12                        0.600\n",
      "472            15                        0.600\n",
      "473            12                        0.602\n",
      "474            12                        0.600\n",
      "475            13                        0.602\n",
      "476            13                        0.603\n",
      "477            12                        0.604\n",
      "478            13                        0.603\n",
      "479            12                        0.604\n",
      "480            13                        0.602\n",
      "481            11                        0.600\n",
      "482            12                        0.601\n",
      "483            13                        0.601\n",
      "484            11                        0.603\n",
      "485            13                        0.605\n",
      "486            13                        0.604\n",
      "487            11                        0.603\n",
      "488            11                        0.602\n",
      "489            14                        0.603\n",
      "490            12                        0.601\n",
      "491            13                        0.602\n",
      "492            13                        0.603\n",
      "493            12                        0.601\n",
      "494            13                        0.603\n",
      "495            14                        0.604\n",
      "496            13                        0.604\n",
      "497            11                        0.604\n",
      "498            12                        0.604\n",
      "499            12                        0.603\n",
      "\n",
      "[1500 rows x 2 columns]\n"
     ]
    }
   ],
   "source": [
    "print(new_data2)\n",
    "import plotly.plotly as py\n",
    "import plotly.graph_objs as go\n",
    "tData2 = new_data2\n",
    "\n",
    "print(tData2)\n",
    "tmean_data2 =  tData2.groupby(tData2.index).mean()\n",
    "\n",
    "x = np.linspace(0, len(tmean_data2), len(tmean_data2)+1)\n",
    "y1 = tmean_data2['percentage_majority_opinion']\n",
    "y2 = tmean_data2['community_no']\n",
    "# y3 = mean_data['community_no']\n",
    "# y4 = mean_data['radical_opinions']\n",
    "# y5 = mean_data['radical_opinions']\n",
    "    \n",
    "\n",
    "# Create a trace\n",
    "percentage_majority_opinion = go.Scatter(\n",
    "    x = x,\n",
    "    y = y1\n",
    ")\n",
    "community_no = go.Scatter(\n",
    "    x = x,\n",
    "    y = y2\n",
    ")\n"
   ]
  },
  {
   "cell_type": "code",
   "execution_count": 14,
   "metadata": {},
   "outputs": [
    {
     "data": {
      "text/html": [
       "<iframe id=\"igraph\" scrolling=\"no\" style=\"border:none;\" seamless=\"seamless\" src=\"https://plot.ly/~nrxdirk/55.embed\" height=\"525px\" width=\"100%\"></iframe>"
      ],
      "text/plain": [
       "<plotly.tools.PlotlyDisplay object>"
      ]
     },
     "execution_count": 14,
     "metadata": {},
     "output_type": "execute_result"
    }
   ],
   "source": [
    "data = [percentage_majority_opinion]\n",
    "py.iplot(data, filename='basic-line')"
   ]
  },
  {
   "cell_type": "code",
   "execution_count": 15,
   "metadata": {},
   "outputs": [
    {
     "data": {
      "text/html": [
       "<iframe id=\"igraph\" scrolling=\"no\" style=\"border:none;\" seamless=\"seamless\" src=\"https://plot.ly/~nrxdirk/55.embed\" height=\"525px\" width=\"100%\"></iframe>"
      ],
      "text/plain": [
       "<plotly.tools.PlotlyDisplay object>"
      ]
     },
     "execution_count": 15,
     "metadata": {},
     "output_type": "execute_result"
    }
   ],
   "source": [
    "data = [community_no]\n",
    "py.iplot(data, filename='basic-line')"
   ]
  },
  {
   "cell_type": "code",
   "execution_count": 17,
   "metadata": {},
   "outputs": [
    {
     "name": "stdout",
     "output_type": "stream",
     "text": [
      "Average duration per iteration: 156.97954874038697 seconds.\n",
      "Expected time till finish:  0 hours and  0  minutes.\n"
     ]
    }
   ],
   "source": [
    "from model import *\n",
    "from IPython.display import clear_output\n",
    "import time\n",
    "import pandas as pd\n",
    "\n",
    "\n",
    "num_steps = 100\n",
    "itters = 5\n",
    "\n",
    "times = []\n",
    "count = 0\n",
    "data_array = []\n",
    "network = Network(N = 1000, no_of_neighbors = 3, network_type = 2, beta_component = 0.23, similarity_treshold = 0.025, social_influence = 0.025, swingers = 3, malicious_N = 0, echo_threshold=.25) \n",
    "\n",
    "for i in range(itters):\n",
    "    print('GO')\n",
    "    start = time.time()\n",
    "    \n",
    "    for j in range(num_steps):\n",
    "        if(j==num_steps/2):\n",
    "            print('1/2')\n",
    "        network.step()\n",
    "        \n",
    "    count += 1\n",
    "    clear_output()\n",
    "    times.append(time.time() - start)\n",
    "    meantime = np.mean(times)\n",
    "    print('Average duration per iteration: %s seconds.'%str(meantime))\n",
    "    nectime =  (itters-count)*meantime\n",
    "    print('Expected time till finish: ', int(nectime/3600), 'hours and ', int((nectime%3600)/60), ' minutes.')\n",
    "\n",
    "\n",
    "    data = network.datacollector.get_model_vars_dataframe()\n",
    "    data_array.append(data)\n",
    "    \n",
    "new_data3 = pd.concat(data_array)"
   ]
  },
  {
   "cell_type": "code",
   "execution_count": 22,
   "metadata": {},
   "outputs": [
    {
     "name": "stdout",
     "output_type": "stream",
     "text": [
      "     community_no  percentage_majority_opinion\n",
      "0              17                        0.507\n",
      "1              21                        0.521\n",
      "2              20                        0.508\n",
      "3              19                        0.509\n",
      "4              18                        0.509\n",
      "5              18                        0.507\n",
      "6              18                        0.513\n",
      "7              17                        0.521\n",
      "8              16                        0.512\n",
      "9              16                        0.512\n",
      "10             14                        0.523\n",
      "11             14                        0.514\n",
      "12             15                        0.524\n",
      "13             13                        0.529\n",
      "14             15                        0.524\n",
      "15             14                        0.523\n",
      "16             13                        0.523\n",
      "17             14                        0.522\n",
      "18             13                        0.518\n",
      "19             13                        0.523\n",
      "20             11                        0.517\n",
      "21             12                        0.521\n",
      "22             12                        0.522\n",
      "23             13                        0.521\n",
      "24             12                        0.525\n",
      "25             12                        0.526\n",
      "26             12                        0.529\n",
      "27             11                        0.528\n",
      "28             13                        0.523\n",
      "29             12                        0.522\n",
      "..            ...                          ...\n",
      "470            12                        0.513\n",
      "471            13                        0.513\n",
      "472            12                        0.513\n",
      "473            13                        0.513\n",
      "474            11                        0.514\n",
      "475            12                        0.514\n",
      "476            12                        0.512\n",
      "477            13                        0.510\n",
      "478            11                        0.512\n",
      "479            13                        0.513\n",
      "480            10                        0.512\n",
      "481            12                        0.512\n",
      "482            11                        0.513\n",
      "483            14                        0.512\n",
      "484            13                        0.512\n",
      "485            12                        0.512\n",
      "486            12                        0.512\n",
      "487            12                        0.512\n",
      "488            12                        0.512\n",
      "489            12                        0.511\n",
      "490            11                        0.511\n",
      "491            12                        0.511\n",
      "492            14                        0.512\n",
      "493            11                        0.511\n",
      "494            13                        0.512\n",
      "495            12                        0.515\n",
      "496            12                        0.513\n",
      "497            12                        0.512\n",
      "498            12                        0.513\n",
      "499            12                        0.513\n",
      "\n",
      "[1500 rows x 2 columns]\n"
     ]
    }
   ],
   "source": [
    "# print(new_data2)\n",
    "import plotly.plotly as py\n",
    "import plotly.graph_objs as go\n",
    "tData3 = new_data3\n",
    "\n",
    "print(tData3)\n",
    "tmean_data3 =  tData3.groupby(tData3.index).mean()\n",
    "\n",
    "x = np.linspace(0, len(tmean_data3), len(tmean_data3)+1)\n",
    "y1 = tmean_data3['percentage_majority_opinion']\n",
    "y2 = tmean_data3['community_no']\n",
    "# y3 = mean_data['community_no']\n",
    "# y4 = mean_data['radical_opinions']\n",
    "# y5 = mean_data['radical_opinions']\n",
    "    \n",
    "\n",
    "# Create a trace\n",
    "percentage_majority_opinion_mil = go.Scatter(\n",
    "    x = x,\n",
    "    y = y1\n",
    ")\n",
    "community_no_mil = go.Scatter(\n",
    "    x = x,\n",
    "    y = y2\n",
    ")\n"
   ]
  },
  {
   "cell_type": "code",
   "execution_count": 19,
   "metadata": {},
   "outputs": [
    {
     "data": {
      "text/html": [
       "<iframe id=\"igraph\" scrolling=\"no\" style=\"border:none;\" seamless=\"seamless\" src=\"https://plot.ly/~nrxdirk/55.embed\" height=\"525px\" width=\"100%\"></iframe>"
      ],
      "text/plain": [
       "<plotly.tools.PlotlyDisplay object>"
      ]
     },
     "execution_count": 19,
     "metadata": {},
     "output_type": "execute_result"
    }
   ],
   "source": [
    "data = [percentage_majority_opinion,percentage_majority_opinion_mil]\n",
    "py.iplot(data, filename='basic-line')"
   ]
  },
  {
   "cell_type": "code",
   "execution_count": 25,
   "metadata": {},
   "outputs": [
    {
     "data": {
      "text/html": [
       "<iframe id=\"igraph\" scrolling=\"no\" style=\"border:none;\" seamless=\"seamless\" src=\"https://plot.ly/~nrxdirk/55.embed\" height=\"525px\" width=\"100%\"></iframe>"
      ],
      "text/plain": [
       "<plotly.tools.PlotlyDisplay object>"
      ]
     },
     "execution_count": 25,
     "metadata": {},
     "output_type": "execute_result"
    }
   ],
   "source": [
    "data = [community_no, community_no_mil]\n",
    "py.iplot(data, filename='basic-line')"
   ]
  },
  {
   "cell_type": "code",
   "execution_count": null,
   "metadata": {},
   "outputs": [],
   "source": []
  }
 ],
 "metadata": {
  "kernelspec": {
   "display_name": "Python 3",
   "language": "python",
   "name": "python3"
  },
  "language_info": {
   "codemirror_mode": {
    "name": "ipython",
    "version": 3
   },
   "file_extension": ".py",
   "mimetype": "text/x-python",
   "name": "python",
   "nbconvert_exporter": "python",
   "pygments_lexer": "ipython3",
   "version": "3.6.4"
  },
  "varInspector": {
   "cols": {
    "lenName": 16,
    "lenType": 16,
    "lenVar": 40
   },
   "kernels_config": {
    "python": {
     "delete_cmd_postfix": "",
     "delete_cmd_prefix": "del ",
     "library": "var_list.py",
     "varRefreshCmd": "print(var_dic_list())"
    },
    "r": {
     "delete_cmd_postfix": ") ",
     "delete_cmd_prefix": "rm(",
     "library": "var_list.r",
     "varRefreshCmd": "cat(var_dic_list()) "
    }
   },
   "types_to_exclude": [
    "module",
    "function",
    "builtin_function_or_method",
    "instance",
    "_Feature"
   ],
   "window_display": false
  }
 },
 "nbformat": 4,
 "nbformat_minor": 2
}
